{
 "cells": [
  {
   "cell_type": "markdown",
   "id": "07c57bad",
   "metadata": {},
   "source": [
    "# Filtering and business cycles\n"
   ]
  },
  {
   "cell_type": "code",
   "execution_count": 10,
   "id": "7382d435",
   "metadata": {},
   "outputs": [],
   "source": [
    "%matplotlib inline\n",
    "import pandas as pd\n",
    "import numpy as np\n",
    "import matplotlib.pyplot as plt\n",
    "from matplotlib import style\n",
    "from dateutil.relativedelta import relativedelta"
   ]
  },
  {
   "cell_type": "markdown",
   "id": "0e74857d",
   "metadata": {},
   "source": [
    "## 0) Load the Data\n",
    "\n",
    "*In this exercise you need to replicate some business cycle data work that you studied in class\n",
    "using any programming language of your choice. You are also encouraged to work with your\n",
    "classmates in completing these coding exercises. In class, I will ask a few of you to present\n",
    "your results, so try your best to make your codes and plots are as neat as possible.\n",
    "Download quarterly data for US real GDP, consumption, and investment.1 Take logs of\n",
    "the data and make sure that your data is seasonally adjusted.*"
   ]
  },
  {
   "cell_type": "markdown",
   "id": "8b7a3517",
   "metadata": {},
   "source": [
    "As a first step, we imported the datasets we are interested in via the. fredapi library. Specifically, we initialized to a fred object by providing our key as input. Then using the get_series function with the codes of the datasets we were interested in, we downloaded them by saving them in different pandas series. "
   ]
  },
  {
   "cell_type": "code",
   "execution_count": 5,
   "id": "96770353",
   "metadata": {},
   "outputs": [],
   "source": [
    "from fredapi import Fred\n",
    "fred = Fred(api_key = '3c333fd92c7d3df79f55af2ee72f13bf')\n",
    "\n",
    "start_data = '1960-01-01'\n",
    "end_data = '2023-03-31'\n",
    "\n",
    "def get_data(code, start_data = start_data, end_data = end_data):\n",
    "    return fred.get_series(code, start_data, end_data)\n",
    "\n",
    "gdp = get_data('GDPC1')\n",
    "cons = get_data('PCECC96')\n",
    "inv = get_data('GPDIC1')\n",
    "rec = get_data('USRECQ')"
   ]
  },
  {
   "cell_type": "code",
   "execution_count": 6,
   "id": "503b5159",
   "metadata": {},
   "outputs": [],
   "source": [
    "gdp.name = 'gdp'\n",
    "cons.name = 'cons'\n",
    "inv.name = 'inv'\n",
    "rec.name = 'rec'"
   ]
  },
  {
   "cell_type": "markdown",
   "id": "abb39278",
   "metadata": {},
   "source": [
    "Log transformation"
   ]
  },
  {
   "cell_type": "code",
   "execution_count": 7,
   "id": "5621b45d",
   "metadata": {},
   "outputs": [],
   "source": [
    "gdp = np.log(gdp)\n",
    "cons = np.log(cons)\n",
    "inv = np.log(inv)"
   ]
  },
  {
   "cell_type": "markdown",
   "id": "37709300",
   "metadata": {},
   "source": [
    "Joined all the series in un dataframe"
   ]
  },
  {
   "cell_type": "code",
   "execution_count": 15,
   "id": "9f6bc762",
   "metadata": {},
   "outputs": [
    {
     "data": {
      "text/html": [
       "<div>\n",
       "<style scoped>\n",
       "    .dataframe tbody tr th:only-of-type {\n",
       "        vertical-align: middle;\n",
       "    }\n",
       "\n",
       "    .dataframe tbody tr th {\n",
       "        vertical-align: top;\n",
       "    }\n",
       "\n",
       "    .dataframe thead th {\n",
       "        text-align: right;\n",
       "    }\n",
       "</style>\n",
       "<table border=\"1\" class=\"dataframe\">\n",
       "  <thead>\n",
       "    <tr style=\"text-align: right;\">\n",
       "      <th></th>\n",
       "      <th>gdp</th>\n",
       "      <th>cons</th>\n",
       "      <th>inv</th>\n",
       "      <th>rec</th>\n",
       "      <th>Date</th>\n",
       "    </tr>\n",
       "  </thead>\n",
       "  <tbody>\n",
       "    <tr>\n",
       "      <th>0</th>\n",
       "      <td>8.094942</td>\n",
       "      <td>7.600308</td>\n",
       "      <td>5.966685</td>\n",
       "      <td>0.0</td>\n",
       "      <td>1960-01-01</td>\n",
       "    </tr>\n",
       "    <tr>\n",
       "      <th>1</th>\n",
       "      <td>8.089537</td>\n",
       "      <td>7.612843</td>\n",
       "      <td>5.868848</td>\n",
       "      <td>0.0</td>\n",
       "      <td>1960-04-01</td>\n",
       "    </tr>\n",
       "    <tr>\n",
       "      <th>2</th>\n",
       "      <td>8.094419</td>\n",
       "      <td>7.608838</td>\n",
       "      <td>5.866304</td>\n",
       "      <td>1.0</td>\n",
       "      <td>1960-07-01</td>\n",
       "    </tr>\n",
       "    <tr>\n",
       "      <th>3</th>\n",
       "      <td>8.081502</td>\n",
       "      <td>7.610132</td>\n",
       "      <td>5.748893</td>\n",
       "      <td>1.0</td>\n",
       "      <td>1960-10-01</td>\n",
       "    </tr>\n",
       "    <tr>\n",
       "      <th>4</th>\n",
       "      <td>8.088228</td>\n",
       "      <td>7.609761</td>\n",
       "      <td>5.774514</td>\n",
       "      <td>1.0</td>\n",
       "      <td>1961-01-01</td>\n",
       "    </tr>\n",
       "    <tr>\n",
       "      <th>...</th>\n",
       "      <td>...</td>\n",
       "      <td>...</td>\n",
       "      <td>...</td>\n",
       "      <td>...</td>\n",
       "      <td>...</td>\n",
       "    </tr>\n",
       "    <tr>\n",
       "      <th>248</th>\n",
       "      <td>9.899685</td>\n",
       "      <td>9.548838</td>\n",
       "      <td>8.266802</td>\n",
       "      <td>0.0</td>\n",
       "      <td>2022-01-01</td>\n",
       "    </tr>\n",
       "    <tr>\n",
       "      <th>249</th>\n",
       "      <td>9.898237</td>\n",
       "      <td>9.553891</td>\n",
       "      <td>8.228704</td>\n",
       "      <td>0.0</td>\n",
       "      <td>2022-04-01</td>\n",
       "    </tr>\n",
       "    <tr>\n",
       "      <th>250</th>\n",
       "      <td>9.906217</td>\n",
       "      <td>9.559486</td>\n",
       "      <td>8.203537</td>\n",
       "      <td>0.0</td>\n",
       "      <td>2022-07-01</td>\n",
       "    </tr>\n",
       "    <tr>\n",
       "      <th>251</th>\n",
       "      <td>9.912571</td>\n",
       "      <td>9.562043</td>\n",
       "      <td>8.214500</td>\n",
       "      <td>0.0</td>\n",
       "      <td>2022-10-01</td>\n",
       "    </tr>\n",
       "    <tr>\n",
       "      <th>252</th>\n",
       "      <td>9.915212</td>\n",
       "      <td>9.571119</td>\n",
       "      <td>8.181183</td>\n",
       "      <td>0.0</td>\n",
       "      <td>2023-01-01</td>\n",
       "    </tr>\n",
       "  </tbody>\n",
       "</table>\n",
       "<p>253 rows × 5 columns</p>\n",
       "</div>"
      ],
      "text/plain": [
       "          gdp      cons       inv  rec       Date\n",
       "0    8.094942  7.600308  5.966685  0.0 1960-01-01\n",
       "1    8.089537  7.612843  5.868848  0.0 1960-04-01\n",
       "2    8.094419  7.608838  5.866304  1.0 1960-07-01\n",
       "3    8.081502  7.610132  5.748893  1.0 1960-10-01\n",
       "4    8.088228  7.609761  5.774514  1.0 1961-01-01\n",
       "..        ...       ...       ...  ...        ...\n",
       "248  9.899685  9.548838  8.266802  0.0 2022-01-01\n",
       "249  9.898237  9.553891  8.228704  0.0 2022-04-01\n",
       "250  9.906217  9.559486  8.203537  0.0 2022-07-01\n",
       "251  9.912571  9.562043  8.214500  0.0 2022-10-01\n",
       "252  9.915212  9.571119  8.181183  0.0 2023-01-01\n",
       "\n",
       "[253 rows x 5 columns]"
      ]
     },
     "execution_count": 15,
     "metadata": {},
     "output_type": "execute_result"
    }
   ],
   "source": [
    "cols = [gdp, cons, inv,rec]\n",
    "df = pd.concat(cols, axis = 1)\n",
    "df['Date'] = df.index\n",
    "df.reset_index(drop = True)"
   ]
  },
  {
   "cell_type": "markdown",
   "id": "270b3e72",
   "metadata": {},
   "source": [
    "# 1) US GDP and recession periods\n",
    "\n",
    "*Plot US real GDP from 1950 Q1 to 2023 Q1. If possible, try to also plot NBER defined recession periods.*"
   ]
  },
  {
   "cell_type": "markdown",
   "id": "dea1992c",
   "metadata": {},
   "source": [
    "In order to make our plots we make use of an .mplstyle file, that allows to set some default parameters of the graph, and we also defined some function to add some aesthetics together with a title and a description of the plot."
   ]
  },
  {
   "cell_type": "code",
   "execution_count": 16,
   "id": "01f3f88a",
   "metadata": {
    "run_control": {
     "marked": false
    }
   },
   "outputs": [],
   "source": [
    "plt.style.use('mystyle.mplstyle')\n",
    "\n",
    "def make_a_line():\n",
    "    ax.plot([0.12, .9],              # Set width of line\n",
    "        [1.05, 1.05],                # Set height of line\n",
    "        transform=fig.transFigure,   # Set location relative to plot\n",
    "        clip_on=False, \n",
    "        color='#E3120B', \n",
    "        linewidth=.6)\n",
    "    \n",
    "    \n",
    "def make_a_rec():\n",
    "    ax.add_patch(plt.Rectangle((0.12,1.05),            # Set location of rectangle by lower left corder\n",
    "                           0.04,                       # Width of rectangle\n",
    "                           -0.02,                      # Height of rectangle. Negative so it goes down.\n",
    "                           facecolor='#E3120B', \n",
    "                           transform=fig.transFigure, \n",
    "                           clip_on=False, \n",
    "                           linewidth = 0))\n",
    "    \n",
    "    \n",
    "def make_title(text):\n",
    "    ax.text(x=0.12, y=0.98, s=text, \n",
    "            transform=fig.transFigure, ha='left', \n",
    "            fontsize=13, weight='bold', alpha=.8)\n",
    "    \n",
    "    \n",
    "def make_description(text):\n",
    "    ax.text(x=0.12, y=0.93, s=text, \n",
    "            transform=fig.transFigure, ha='left', \n",
    "            fontsize=11, alpha=.8)"
   ]
  },
  {
   "cell_type": "markdown",
   "id": "d390e462",
   "metadata": {},
   "source": [
    "For the first we just plotted the log real gdp and then we added a grey area in the quarters corresponding to a recession period. In order to add the grey recatangles we use the function axvspan, that does exactly this and that needs as input a start and an end value from the x axis. Given that we have a time series, we first extracted all the recession quarters, providing the first day of the quarter as the beginning value, and the last day of the quarter as the end value."
   ]
  },
  {
   "cell_type": "code",
   "execution_count": 20,
   "id": "a6b56c17",
   "metadata": {
    "code_folding": [],
    "scrolled": false
   },
   "outputs": [
    {
     "data": {
      "image/png": "[encoded data removed]",
      "text/plain": [
       "<Figure size 800x400 with 1 Axes>"
      ]
     },
     "metadata": {},
     "output_type": "display_data"
    }
   ],
   "source": [
    "fig, ax = plt.subplots()\n",
    "\n",
    "ax.plot(df.Date, df.gdp, color='#006BA2', zorder = 2)\n",
    "\n",
    "ax.yaxis.set_ticks(np.arange(8,10.1,0.5))\n",
    "\n",
    "make_a_line()\n",
    "make_a_rec()\n",
    "make_title('Real Log GDP')\n",
    "make_description(\"Billions of Chained 2012 Dollars, Seasonally Adjusted Annual Rate\")\n",
    "\n",
    "recession = df.loc[df[\"rec\"] == 1, 'Date']\n",
    "for day in recession: \n",
    "    ax.axvspan(day, day + relativedelta(months =+ 3), color=\"grey\", alpha = 0.25, lw=0, zorder = 1)\n",
    "\n",
    "\n",
    "plt.savefig('real log.jpg', bbox_inches='tight', dpi = 300)\n",
    "\n"
   ]
  }
 ],
 "metadata": {
  "hide_input": false,
  "kernelspec": {
   "display_name": "Python 3 (ipykernel)",
   "language": "python",
   "name": "python3"
  },
  "language_info": {
   "codemirror_mode": {
    "name": "ipython",
    "version": 3
   },
   "file_extension": ".py",
   "mimetype": "text/x-python",
   "name": "python",
   "nbconvert_exporter": "python",
   "pygments_lexer": "ipython3",
   "version": "3.11.2"
  },
  "toc": {
   "base_numbering": 1,
   "nav_menu": {},
   "number_sections": false,
   "sideBar": true,
   "skip_h1_title": false,
   "title_cell": "Table of Contents",
   "title_sidebar": "Contents",
   "toc_cell": false,
   "toc_position": {
    "height": "calc(100% - 180px)",
    "left": "10px",
    "top": "150px",
    "width": "165px"
   },
   "toc_section_display": true,
   "toc_window_display": false
  },
  "varInspector": {
   "cols": {
    "lenName": 16,
    "lenType": 16,
    "lenVar": 40
   },
   "kernels_config": {
    "python": {
     "delete_cmd_postfix": "",
     "delete_cmd_prefix": "del ",
     "library": "var_list.py",
     "varRefreshCmd": "print(var_dic_list())"
    },
    "r": {
     "delete_cmd_postfix": ") ",
     "delete_cmd_prefix": "rm(",
     "library": "var_list.r",
     "varRefreshCmd": "cat(var_dic_list()) "
    }
   },
   "types_to_exclude": [
    "module",
    "function",
    "builtin_function_or_method",
    "instance",
    "_Feature"
   ],
   "window_display": false
  }
 },
 "nbformat": 4,
 "nbformat_minor": 5
}
