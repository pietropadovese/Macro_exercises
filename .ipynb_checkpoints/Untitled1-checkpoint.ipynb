{
 "cells": [
  {
   "cell_type": "code",
   "execution_count": 1,
   "id": "1ebd2333",
   "metadata": {},
   "outputs": [],
   "source": [
    "from plot_helper import *"
   ]
  },
  {
   "cell_type": "code",
   "execution_count": 2,
   "id": "a70eaa48",
   "metadata": {},
   "outputs": [],
   "source": [
    "%matplotlib inline\n",
    "import pandas as pd\n",
    "import numpy as np\n",
    "import matplotlib.pyplot as plt\n",
    "from matplotlib import style\n",
    "from dateutil.relativedelta import relativedelta\n",
    "from datetime import timedelta"
   ]
  },
  {
   "cell_type": "code",
   "execution_count": 3,
   "id": "ceaffc1b",
   "metadata": {},
   "outputs": [],
   "source": [
    "from fredapi import Fred\n",
    "fred = Fred(api_key = '3c333fd92c7d3df79f55af2ee72f13bf')\n",
    "\n",
    "start_data = '1960-01-01'\n",
    "end_data = '2023-03-31'\n",
    "\n",
    "def get_data(code, start_data = start_data, end_data = end_data):\n",
    "    return fred.get_series(code, start_data, end_data)\n",
    "\n",
    "gdp = get_data('GDPC1')\n",
    "cons = get_data('PCECC96')\n",
    "inv = get_data('GPDIC1')\n",
    "rec = get_data('USRECQ')"
   ]
  },
  {
   "cell_type": "code",
   "execution_count": 4,
   "id": "d7ee4b98",
   "metadata": {},
   "outputs": [],
   "source": [
    "gdp.name = 'gdp'"
   ]
  },
  {
   "cell_type": "code",
   "execution_count": 5,
   "id": "0897dd2b",
   "metadata": {},
   "outputs": [],
   "source": [
    "gdp = np.log(gdp)\n",
    "cons = np.log(cons)\n",
    "inv = np.log(inv)"
   ]
  },
  {
   "cell_type": "code",
   "execution_count": 6,
   "id": "1af82f31",
   "metadata": {},
   "outputs": [
    {
     "data": {
      "text/html": [
       "<div>\n",
       "<style scoped>\n",
       "    .dataframe tbody tr th:only-of-type {\n",
       "        vertical-align: middle;\n",
       "    }\n",
       "\n",
       "    .dataframe tbody tr th {\n",
       "        vertical-align: top;\n",
       "    }\n",
       "\n",
       "    .dataframe thead th {\n",
       "        text-align: right;\n",
       "    }\n",
       "</style>\n",
       "<table border=\"1\" class=\"dataframe\">\n",
       "  <thead>\n",
       "    <tr style=\"text-align: right;\">\n",
       "      <th></th>\n",
       "      <th>gdp</th>\n",
       "      <th>0</th>\n",
       "      <th>1</th>\n",
       "      <th>2</th>\n",
       "      <th>Date</th>\n",
       "    </tr>\n",
       "  </thead>\n",
       "  <tbody>\n",
       "    <tr>\n",
       "      <th>0</th>\n",
       "      <td>8.094942</td>\n",
       "      <td>7.600308</td>\n",
       "      <td>5.966685</td>\n",
       "      <td>0.0</td>\n",
       "      <td>1960-01-01</td>\n",
       "    </tr>\n",
       "    <tr>\n",
       "      <th>1</th>\n",
       "      <td>8.089537</td>\n",
       "      <td>7.612843</td>\n",
       "      <td>5.868848</td>\n",
       "      <td>0.0</td>\n",
       "      <td>1960-04-01</td>\n",
       "    </tr>\n",
       "    <tr>\n",
       "      <th>2</th>\n",
       "      <td>8.094419</td>\n",
       "      <td>7.608838</td>\n",
       "      <td>5.866304</td>\n",
       "      <td>1.0</td>\n",
       "      <td>1960-07-01</td>\n",
       "    </tr>\n",
       "    <tr>\n",
       "      <th>3</th>\n",
       "      <td>8.081502</td>\n",
       "      <td>7.610132</td>\n",
       "      <td>5.748893</td>\n",
       "      <td>1.0</td>\n",
       "      <td>1960-10-01</td>\n",
       "    </tr>\n",
       "    <tr>\n",
       "      <th>4</th>\n",
       "      <td>8.088228</td>\n",
       "      <td>7.609761</td>\n",
       "      <td>5.774514</td>\n",
       "      <td>1.0</td>\n",
       "      <td>1961-01-01</td>\n",
       "    </tr>\n",
       "    <tr>\n",
       "      <th>...</th>\n",
       "      <td>...</td>\n",
       "      <td>...</td>\n",
       "      <td>...</td>\n",
       "      <td>...</td>\n",
       "      <td>...</td>\n",
       "    </tr>\n",
       "    <tr>\n",
       "      <th>248</th>\n",
       "      <td>9.899685</td>\n",
       "      <td>9.548838</td>\n",
       "      <td>8.266802</td>\n",
       "      <td>0.0</td>\n",
       "      <td>2022-01-01</td>\n",
       "    </tr>\n",
       "    <tr>\n",
       "      <th>249</th>\n",
       "      <td>9.898237</td>\n",
       "      <td>9.553891</td>\n",
       "      <td>8.228704</td>\n",
       "      <td>0.0</td>\n",
       "      <td>2022-04-01</td>\n",
       "    </tr>\n",
       "    <tr>\n",
       "      <th>250</th>\n",
       "      <td>9.906217</td>\n",
       "      <td>9.559486</td>\n",
       "      <td>8.203537</td>\n",
       "      <td>0.0</td>\n",
       "      <td>2022-07-01</td>\n",
       "    </tr>\n",
       "    <tr>\n",
       "      <th>251</th>\n",
       "      <td>9.912571</td>\n",
       "      <td>9.562043</td>\n",
       "      <td>8.214500</td>\n",
       "      <td>0.0</td>\n",
       "      <td>2022-10-01</td>\n",
       "    </tr>\n",
       "    <tr>\n",
       "      <th>252</th>\n",
       "      <td>9.915212</td>\n",
       "      <td>9.571119</td>\n",
       "      <td>8.181183</td>\n",
       "      <td>0.0</td>\n",
       "      <td>2023-01-01</td>\n",
       "    </tr>\n",
       "  </tbody>\n",
       "</table>\n",
       "<p>253 rows × 5 columns</p>\n",
       "</div>"
      ],
      "text/plain": [
       "          gdp         0         1    2       Date\n",
       "0    8.094942  7.600308  5.966685  0.0 1960-01-01\n",
       "1    8.089537  7.612843  5.868848  0.0 1960-04-01\n",
       "2    8.094419  7.608838  5.866304  1.0 1960-07-01\n",
       "3    8.081502  7.610132  5.748893  1.0 1960-10-01\n",
       "4    8.088228  7.609761  5.774514  1.0 1961-01-01\n",
       "..        ...       ...       ...  ...        ...\n",
       "248  9.899685  9.548838  8.266802  0.0 2022-01-01\n",
       "249  9.898237  9.553891  8.228704  0.0 2022-04-01\n",
       "250  9.906217  9.559486  8.203537  0.0 2022-07-01\n",
       "251  9.912571  9.562043  8.214500  0.0 2022-10-01\n",
       "252  9.915212  9.571119  8.181183  0.0 2023-01-01\n",
       "\n",
       "[253 rows x 5 columns]"
      ]
     },
     "execution_count": 6,
     "metadata": {},
     "output_type": "execute_result"
    }
   ],
   "source": [
    "cols = [gdp, cons, inv,rec]\n",
    "df = pd.concat(cols, axis = 1)\n",
    "df['Date'] = df.index.to_pydatetime()\n",
    "df.reset_index(drop = True)"
   ]
  },
  {
   "cell_type": "code",
   "execution_count": 7,
   "id": "25a63fd3",
   "metadata": {},
   "outputs": [],
   "source": [
    "plt.style.use('mystyle.mplstyle')"
   ]
  },
  {
   "cell_type": "code",
   "execution_count": 9,
   "id": "794b6e1f",
   "metadata": {},
   "outputs": [
    {
     "data": {
      "image/png": "[encoded data removed]",
      "text/plain": [
       "<Figure size 800x400 with 1 Axes>"
      ]
     },
     "metadata": {},
     "output_type": "display_data"
    }
   ],
   "source": [
    "gdp_plot = Trend(df, ['gdp'])\n",
    "gdp_plot.plot('title')"
   ]
  }
 ],
 "metadata": {
  "hide_input": false,
  "kernelspec": {
   "display_name": "Python 3 (ipykernel)",
   "language": "python",
   "name": "python3"
  },
  "language_info": {
   "codemirror_mode": {
    "name": "ipython",
    "version": 3
   },
   "file_extension": ".py",
   "mimetype": "text/x-python",
   "name": "python",
   "nbconvert_exporter": "python",
   "pygments_lexer": "ipython3",
   "version": "3.11.2"
  },
  "toc": {
   "base_numbering": 1,
   "nav_menu": {},
   "number_sections": true,
   "sideBar": true,
   "skip_h1_title": false,
   "title_cell": "Table of Contents",
   "title_sidebar": "Contents",
   "toc_cell": false,
   "toc_position": {},
   "toc_section_display": true,
   "toc_window_display": false
  },
  "varInspector": {
   "cols": {
    "lenName": 16,
    "lenType": 16,
    "lenVar": 40
   },
   "kernels_config": {
    "python": {
     "delete_cmd_postfix": "",
     "delete_cmd_prefix": "del ",
     "library": "var_list.py",
     "varRefreshCmd": "print(var_dic_list())"
    },
    "r": {
     "delete_cmd_postfix": ") ",
     "delete_cmd_prefix": "rm(",
     "library": "var_list.r",
     "varRefreshCmd": "cat(var_dic_list()) "
    }
   },
   "types_to_exclude": [
    "module",
    "function",
    "builtin_function_or_method",
    "instance",
    "_Feature"
   ],
   "window_display": false
  }
 },
 "nbformat": 4,
 "nbformat_minor": 5
}
