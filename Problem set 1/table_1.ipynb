{
 "cells": [
  {
   "cell_type": "markdown",
   "id": "90c5e796",
   "metadata": {},
   "source": [
    "# Stilysed facts of the business cycle"
   ]
  },
  {
   "cell_type": "code",
   "execution_count": 14,
   "id": "c23ccff1",
   "metadata": {},
   "outputs": [],
   "source": [
    "# Import the required libraries and set pandas display style option\n",
    "\n",
    "import matplotlib.pyplot as plt\n",
    "import statsmodels.api as sm\n",
    "import pandas as pd\n",
    "import numpy as np\n",
    "from fredapi import Fred\n",
    "\n",
    "pd.set_option('display.float_format', lambda x: '%.3f' % x)"
   ]
  },
  {
   "cell_type": "markdown",
   "id": "151bdb14",
   "metadata": {},
   "source": [
    "# Table 1- Cyclical Behavior of the US Economy\n",
    "\n",
    "## Import the data from Fred\n",
    "\n",
    "A description of the variables, the sources chosen and the reasons for these choices can be found at the end of the file containing the exercise\n"
   ]
  },
  {
   "cell_type": "code",
   "execution_count": 17,
   "id": "ff1e1bad",
   "metadata": {},
   "outputs": [],
   "source": [
    "fred = Fred(api_key = '3c333fd92c7d3df79f55af2ee72f13bf')\n",
    "\n",
    "def get_data(code):\n",
    "    return fred.get_series(code, frequency = 'q')\n",
    "\n",
    "fred_codes = {'GNP' : 'GNP',\n",
    "              'CND' : 'PCND',\n",
    "              'CD' : 'PCDG',\n",
    "              'Avg_Hours' : 'AWHNONAG',\n",
    "              'Avg_Wage' : 'AHETPI'}\n",
    "\n",
    "df = pd.DataFrame()\n",
    "\n",
    "for var in fred_codes.keys():\n",
    "    df[var] = get_data(fred_codes[var])"
   ]
  },
  {
   "cell_type": "markdown",
   "id": "a1249fa1",
   "metadata": {},
   "source": [
    "## Add Hours worked and Employment\n",
    "\n",
    "Data on total hours worked and the level of employment were taken from an excel file provided by the Bureau of Labor Statistics. Having a different format from the data obtained from FRED they need to be cleaned and rearranged so that a single dataframe can be created. \n",
    "\n",
    "What I did was to create a function that requires as input the name of the excel sheet where the data are saved (both series were saved on the same file). This function not only eliminates unnecessary columns but also converts the dates to a format compatible with the other series obtained from fred. The function directly adds the series to the previously created df. \n",
    "\n",
    "I also added a **want_series** condition, which allows to get as output the single requested series, without adding it to the dataframe (this condition allows to use al function later in the creation of table 2)."
   ]
  },
  {
   "cell_type": "code",
   "execution_count": 18,
   "id": "f007d4eb",
   "metadata": {},
   "outputs": [],
   "source": [
    "def add_labour_employment(sheet_name: str, want_series = False):\n",
    "    \n",
    "    temp_df = pd.total_hours = pd.read_excel('total-economy-hours-employment.xlsx',\n",
    "                           sheet_name= sheet_name)  # read the excel sheet\n",
    "\n",
    "    temp_df.drop(['Measure','Units'], axis = 'columns', inplace= True) # drop columns\n",
    "    \n",
    "    # transform the number of the quarter, store in the column 'Qtr'\n",
    "    # to the beginning day of the quarter in the format 'mm-dd'\n",
    "    \n",
    "    transform_data = {1 : '01-01', \n",
    "                  2 : '04-01',\n",
    "                  3 : '07-01',\n",
    "                  4 : '10-01'}\n",
    "    \n",
    "    temp_df = temp_df.replace({'Qtr' : transform_data}) \n",
    "    \n",
    "    # join the transformed 'Qtr' column and the column year\n",
    "    # in the new column 'Date'\n",
    "    \n",
    "    temp_df.Year = temp_df.Year.astype('str')\n",
    "    temp_df['Date'] = temp_df[['Year', 'Qtr']].apply(\"-\".join, axis = 1)\n",
    "    temp_df.drop(['Year', 'Qtr'],axis = 'columns', inplace = True)\n",
    "    \n",
    "    # Set the column Date as index of the df\n",
    "    \n",
    "    temp_df.set_index('Date', drop = True, inplace= True)\n",
    "    temp_df.index = pd.to_datetime(temp_df.index)\n",
    "    \n",
    "    # Rename the columns 'Value' with a more meaningful name\n",
    "    \n",
    "    temp_df.rename(columns ={'Value': sheet_name}, inplace = True)\n",
    "    \n",
    "    # Access the global variable df, containing the FRED series Data\n",
    "    \n",
    "    global df\n",
    "    \n",
    "    # Add the Series to the df\n",
    "    \n",
    "    if want_series == False:\n",
    "        df = pd.concat([df, temp_df], axis = 1)\n",
    "        \n",
    "    # If want_series is true, return the series\n",
    "    \n",
    "    else:\n",
    "        return temp_df[sheet_name]\n",
    "        \n",
    "    del (temp_df)"
   ]
  },
  {
   "cell_type": "code",
   "execution_count": 19,
   "id": "276e538a",
   "metadata": {},
   "outputs": [],
   "source": [
    "# call the function for each variable we want to add\n",
    "\n",
    "add_labour_employment('Hours_worked')\n",
    "\n",
    "add_labour_employment('Employment')"
   ]
  },
  {
   "cell_type": "markdown",
   "id": "08c9f145",
   "metadata": {},
   "source": [
    "## Make Variable Nominal"
   ]
  },
  {
   "cell_type": "markdown",
   "id": "0c94d9a7",
   "metadata": {},
   "source": [
    "One problem in finding the data was that the series for the real values of some data did not go back far enough, so I opted to use the nominal data for all variables and then manually convert them using the CPI.\n",
    "\n",
    "The data need to be converted are: GNP, CND, CD, Avg_Wage"
   ]
  },
  {
   "cell_type": "code",
   "execution_count": 20,
   "id": "f827f12c",
   "metadata": {},
   "outputs": [],
   "source": [
    "# Retrieve the series for CPI from FRED\n",
    "\n",
    "cpi = pd.read_excel('CPI.xls', index_col=0)\n",
    "cpi.rename(columns = {'CPIAUCSL_NBD20120101' : 'ind'}, inplace = True)"
   ]
  },
  {
   "cell_type": "code",
   "execution_count": 21,
   "id": "060b8ebb",
   "metadata": {},
   "outputs": [],
   "source": [
    "nominal = ['GNP', 'CND', 'CD', 'Avg_Wage']\n",
    "df[nominal] = df[nominal].apply(lambda x: x/(cpi.ind/100))\n",
    "\n",
    "# The columns contained in the list nominal are converted"
   ]
  },
  {
   "cell_type": "markdown",
   "id": "812a3280",
   "metadata": {},
   "source": [
    "We can now compute productivity as the ratio between real GNP and Employment"
   ]
  },
  {
   "cell_type": "code",
   "execution_count": 22,
   "id": "090d26f0",
   "metadata": {},
   "outputs": [],
   "source": [
    "df['Productivity'] = (df.GNP*1e09) / (df.Employment*1e06)"
   ]
  },
  {
   "cell_type": "markdown",
   "id": "e38d4dfe",
   "metadata": {},
   "source": [
    "Now that we all the variables we can drop the rows where at least one variable was not available (some data go back in time more than others)"
   ]
  },
  {
   "cell_type": "code",
   "execution_count": 23,
   "id": "b9943ab2",
   "metadata": {},
   "outputs": [],
   "source": [
    "df = df.dropna()"
   ]
  },
  {
   "cell_type": "code",
   "execution_count": 24,
   "id": "53830910",
   "metadata": {},
   "outputs": [],
   "source": [
    "df_log = df.apply(lambda x: np.log(x))"
   ]
  },
  {
   "cell_type": "markdown",
   "id": "664f114e",
   "metadata": {},
   "source": [
    "The dataframe now looks like this: "
   ]
  },
  {
   "cell_type": "code",
   "execution_count": 25,
   "id": "f9bfa3b5",
   "metadata": {},
   "outputs": [
    {
     "data": {
      "text/html": [
       "<div>\n",
       "<style scoped>\n",
       "    .dataframe tbody tr th:only-of-type {\n",
       "        vertical-align: middle;\n",
       "    }\n",
       "\n",
       "    .dataframe tbody tr th {\n",
       "        vertical-align: top;\n",
       "    }\n",
       "\n",
       "    .dataframe thead th {\n",
       "        text-align: right;\n",
       "    }\n",
       "</style>\n",
       "<table border=\"1\" class=\"dataframe\">\n",
       "  <thead>\n",
       "    <tr style=\"text-align: right;\">\n",
       "      <th></th>\n",
       "      <th>GNP</th>\n",
       "      <th>CND</th>\n",
       "      <th>CD</th>\n",
       "      <th>Avg_Hours</th>\n",
       "      <th>Avg_Wage</th>\n",
       "      <th>Hours_worked</th>\n",
       "      <th>Employment</th>\n",
       "      <th>Productivity</th>\n",
       "    </tr>\n",
       "  </thead>\n",
       "  <tbody>\n",
       "    <tr>\n",
       "      <th>1964-01-01</th>\n",
       "      <td>8.514</td>\n",
       "      <td>7.001</td>\n",
       "      <td>6.059</td>\n",
       "      <td>3.648</td>\n",
       "      <td>2.915</td>\n",
       "      <td>4.499</td>\n",
       "      <td>3.804</td>\n",
       "      <td>11.618</td>\n",
       "    </tr>\n",
       "    <tr>\n",
       "      <th>1964-04-01</th>\n",
       "      <td>8.525</td>\n",
       "      <td>7.018</td>\n",
       "      <td>6.083</td>\n",
       "      <td>3.653</td>\n",
       "      <td>2.922</td>\n",
       "      <td>4.508</td>\n",
       "      <td>3.809</td>\n",
       "      <td>11.623</td>\n",
       "    </tr>\n",
       "    <tr>\n",
       "      <th>1964-07-01</th>\n",
       "      <td>8.542</td>\n",
       "      <td>7.038</td>\n",
       "      <td>6.112</td>\n",
       "      <td>3.651</td>\n",
       "      <td>2.931</td>\n",
       "      <td>4.516</td>\n",
       "      <td>3.819</td>\n",
       "      <td>11.631</td>\n",
       "    </tr>\n",
       "    <tr>\n",
       "      <th>1964-10-01</th>\n",
       "      <td>8.545</td>\n",
       "      <td>7.039</td>\n",
       "      <td>6.074</td>\n",
       "      <td>3.653</td>\n",
       "      <td>2.931</td>\n",
       "      <td>4.526</td>\n",
       "      <td>3.826</td>\n",
       "      <td>11.626</td>\n",
       "    </tr>\n",
       "    <tr>\n",
       "      <th>1965-01-01</th>\n",
       "      <td>8.571</td>\n",
       "      <td>7.049</td>\n",
       "      <td>6.161</td>\n",
       "      <td>3.656</td>\n",
       "      <td>2.939</td>\n",
       "      <td>4.540</td>\n",
       "      <td>3.838</td>\n",
       "      <td>11.641</td>\n",
       "    </tr>\n",
       "    <tr>\n",
       "      <th>...</th>\n",
       "      <td>...</td>\n",
       "      <td>...</td>\n",
       "      <td>...</td>\n",
       "      <td>...</td>\n",
       "      <td>...</td>\n",
       "      <td>...</td>\n",
       "      <td>...</td>\n",
       "      <td>...</td>\n",
       "    </tr>\n",
       "    <tr>\n",
       "      <th>2022-01-01</th>\n",
       "      <td>9.902</td>\n",
       "      <td>7.984</td>\n",
       "      <td>7.468</td>\n",
       "      <td>3.529</td>\n",
       "      <td>3.074</td>\n",
       "      <td>5.289</td>\n",
       "      <td>4.739</td>\n",
       "      <td>12.071</td>\n",
       "    </tr>\n",
       "    <tr>\n",
       "      <th>2022-04-01</th>\n",
       "      <td>9.900</td>\n",
       "      <td>7.991</td>\n",
       "      <td>7.443</td>\n",
       "      <td>3.529</td>\n",
       "      <td>3.066</td>\n",
       "      <td>5.295</td>\n",
       "      <td>4.748</td>\n",
       "      <td>12.060</td>\n",
       "    </tr>\n",
       "    <tr>\n",
       "      <th>2022-07-01</th>\n",
       "      <td>9.904</td>\n",
       "      <td>7.983</td>\n",
       "      <td>7.436</td>\n",
       "      <td>3.526</td>\n",
       "      <td>3.065</td>\n",
       "      <td>5.302</td>\n",
       "      <td>4.757</td>\n",
       "      <td>12.055</td>\n",
       "    </tr>\n",
       "    <tr>\n",
       "      <th>2022-10-01</th>\n",
       "      <td>9.909</td>\n",
       "      <td>7.975</td>\n",
       "      <td>7.419</td>\n",
       "      <td>3.523</td>\n",
       "      <td>3.067</td>\n",
       "      <td>5.306</td>\n",
       "      <td>4.763</td>\n",
       "      <td>12.054</td>\n",
       "    </tr>\n",
       "    <tr>\n",
       "      <th>2023-01-01</th>\n",
       "      <td>9.911</td>\n",
       "      <td>7.972</td>\n",
       "      <td>7.445</td>\n",
       "      <td>3.526</td>\n",
       "      <td>3.069</td>\n",
       "      <td>5.314</td>\n",
       "      <td>4.768</td>\n",
       "      <td>12.050</td>\n",
       "    </tr>\n",
       "  </tbody>\n",
       "</table>\n",
       "<p>237 rows × 8 columns</p>\n",
       "</div>"
      ],
      "text/plain": [
       "             GNP   CND    CD  Avg_Hours  Avg_Wage  Hours_worked  Employment  Productivity\n",
       "1964-01-01 8.514 7.001 6.059      3.648     2.915         4.499       3.804        11.618\n",
       "1964-04-01 8.525 7.018 6.083      3.653     2.922         4.508       3.809        11.623\n",
       "1964-07-01 8.542 7.038 6.112      3.651     2.931         4.516       3.819        11.631\n",
       "1964-10-01 8.545 7.039 6.074      3.653     2.931         4.526       3.826        11.626\n",
       "1965-01-01 8.571 7.049 6.161      3.656     2.939         4.540       3.838        11.641\n",
       "...          ...   ...   ...        ...       ...           ...         ...           ...\n",
       "2022-01-01 9.902 7.984 7.468      3.529     3.074         5.289       4.739        12.071\n",
       "2022-04-01 9.900 7.991 7.443      3.529     3.066         5.295       4.748        12.060\n",
       "2022-07-01 9.904 7.983 7.436      3.526     3.065         5.302       4.757        12.055\n",
       "2022-10-01 9.909 7.975 7.419      3.523     3.067         5.306       4.763        12.054\n",
       "2023-01-01 9.911 7.972 7.445      3.526     3.069         5.314       4.768        12.050\n",
       "\n",
       "[237 rows x 8 columns]"
      ]
     },
     "execution_count": 25,
     "metadata": {},
     "output_type": "execute_result"
    }
   ],
   "source": [
    "df_log"
   ]
  },
  {
   "cell_type": "markdown",
   "id": "d56b130d",
   "metadata": {},
   "source": [
    "## Extract fluctuations\n",
    "\n",
    "The next step is to decompose the variables into trend and cycle components, to do this I use the funciton **hpfilter** from the **statsmodel** library. I defined a simple fuctions apply this functions to each columns of the dataframe, store the two values in variables cycle and trend, and add this variables to two different dfs, which are then return as output."
   ]
  },
  {
   "cell_type": "code",
   "execution_count": 26,
   "id": "74facece",
   "metadata": {},
   "outputs": [],
   "source": [
    "def extract_trends(my_df):\n",
    "    \n",
    "    temp_df_cycle = pd.DataFrame()\n",
    "    temp_df_trend = pd.DataFrame()\n",
    "    \n",
    "    for var in list(my_df.columns.values):\n",
    "        cycle, trend = sm.tsa.filters.hpfilter(my_df[var])\n",
    "        temp_df_cycle[var] = cycle \n",
    "        temp_df_trend[var] = trend \n",
    "    \n",
    "    return temp_df_cycle, temp_df_trend"
   ]
  },
  {
   "cell_type": "code",
   "execution_count": 27,
   "id": "d05b98c8",
   "metadata": {},
   "outputs": [],
   "source": [
    "cycle_df, trend_df = extract_trends(df_log)"
   ]
  },
  {
   "cell_type": "code",
   "execution_count": 28,
   "id": "92961288",
   "metadata": {},
   "outputs": [
    {
     "data": {
      "text/html": [
       "<div>\n",
       "<style scoped>\n",
       "    .dataframe tbody tr th:only-of-type {\n",
       "        vertical-align: middle;\n",
       "    }\n",
       "\n",
       "    .dataframe tbody tr th {\n",
       "        vertical-align: top;\n",
       "    }\n",
       "\n",
       "    .dataframe thead th {\n",
       "        text-align: right;\n",
       "    }\n",
       "</style>\n",
       "<table border=\"1\" class=\"dataframe\">\n",
       "  <thead>\n",
       "    <tr style=\"text-align: right;\">\n",
       "      <th></th>\n",
       "      <th>GNP</th>\n",
       "      <th>CND</th>\n",
       "      <th>CD</th>\n",
       "      <th>Avg_Hours</th>\n",
       "      <th>Avg_Wage</th>\n",
       "      <th>Hours_worked</th>\n",
       "      <th>Employment</th>\n",
       "      <th>Productivity</th>\n",
       "    </tr>\n",
       "  </thead>\n",
       "  <tbody>\n",
       "    <tr>\n",
       "      <th>1964-01-01</th>\n",
       "      <td>-0.015</td>\n",
       "      <td>-0.023</td>\n",
       "      <td>-0.031</td>\n",
       "      <td>-0.010</td>\n",
       "      <td>-0.007</td>\n",
       "      <td>-0.017</td>\n",
       "      <td>-0.006</td>\n",
       "      <td>-0.009</td>\n",
       "    </tr>\n",
       "    <tr>\n",
       "      <th>1964-04-01</th>\n",
       "      <td>-0.016</td>\n",
       "      <td>-0.016</td>\n",
       "      <td>-0.020</td>\n",
       "      <td>-0.004</td>\n",
       "      <td>-0.004</td>\n",
       "      <td>-0.014</td>\n",
       "      <td>-0.010</td>\n",
       "      <td>-0.006</td>\n",
       "    </tr>\n",
       "    <tr>\n",
       "      <th>1964-07-01</th>\n",
       "      <td>-0.011</td>\n",
       "      <td>-0.005</td>\n",
       "      <td>-0.003</td>\n",
       "      <td>-0.005</td>\n",
       "      <td>0.002</td>\n",
       "      <td>-0.014</td>\n",
       "      <td>-0.009</td>\n",
       "      <td>-0.003</td>\n",
       "    </tr>\n",
       "    <tr>\n",
       "      <th>1964-10-01</th>\n",
       "      <td>-0.021</td>\n",
       "      <td>-0.014</td>\n",
       "      <td>-0.054</td>\n",
       "      <td>-0.001</td>\n",
       "      <td>-0.003</td>\n",
       "      <td>-0.012</td>\n",
       "      <td>-0.010</td>\n",
       "      <td>-0.011</td>\n",
       "    </tr>\n",
       "    <tr>\n",
       "      <th>1965-01-01</th>\n",
       "      <td>-0.007</td>\n",
       "      <td>-0.014</td>\n",
       "      <td>0.020</td>\n",
       "      <td>0.003</td>\n",
       "      <td>0.002</td>\n",
       "      <td>-0.004</td>\n",
       "      <td>-0.008</td>\n",
       "      <td>0.001</td>\n",
       "    </tr>\n",
       "    <tr>\n",
       "      <th>...</th>\n",
       "      <td>...</td>\n",
       "      <td>...</td>\n",
       "      <td>...</td>\n",
       "      <td>...</td>\n",
       "      <td>...</td>\n",
       "      <td>...</td>\n",
       "      <td>...</td>\n",
       "      <td>...</td>\n",
       "    </tr>\n",
       "    <tr>\n",
       "      <th>2022-01-01</th>\n",
       "      <td>0.007</td>\n",
       "      <td>0.021</td>\n",
       "      <td>0.048</td>\n",
       "      <td>0.001</td>\n",
       "      <td>-0.002</td>\n",
       "      <td>0.013</td>\n",
       "      <td>0.011</td>\n",
       "      <td>-0.004</td>\n",
       "    </tr>\n",
       "    <tr>\n",
       "      <th>2022-04-01</th>\n",
       "      <td>0.000</td>\n",
       "      <td>0.021</td>\n",
       "      <td>0.008</td>\n",
       "      <td>0.000</td>\n",
       "      <td>-0.012</td>\n",
       "      <td>0.015</td>\n",
       "      <td>0.016</td>\n",
       "      <td>-0.016</td>\n",
       "    </tr>\n",
       "    <tr>\n",
       "      <th>2022-07-01</th>\n",
       "      <td>-0.000</td>\n",
       "      <td>0.005</td>\n",
       "      <td>-0.014</td>\n",
       "      <td>-0.003</td>\n",
       "      <td>-0.014</td>\n",
       "      <td>0.019</td>\n",
       "      <td>0.021</td>\n",
       "      <td>-0.021</td>\n",
       "    </tr>\n",
       "    <tr>\n",
       "      <th>2022-10-01</th>\n",
       "      <td>0.001</td>\n",
       "      <td>-0.010</td>\n",
       "      <td>-0.047</td>\n",
       "      <td>-0.007</td>\n",
       "      <td>-0.014</td>\n",
       "      <td>0.020</td>\n",
       "      <td>0.023</td>\n",
       "      <td>-0.023</td>\n",
       "    </tr>\n",
       "    <tr>\n",
       "      <th>2023-01-01</th>\n",
       "      <td>-0.001</td>\n",
       "      <td>-0.021</td>\n",
       "      <td>-0.036</td>\n",
       "      <td>-0.004</td>\n",
       "      <td>-0.014</td>\n",
       "      <td>0.024</td>\n",
       "      <td>0.025</td>\n",
       "      <td>-0.027</td>\n",
       "    </tr>\n",
       "  </tbody>\n",
       "</table>\n",
       "<p>237 rows × 8 columns</p>\n",
       "</div>"
      ],
      "text/plain": [
       "              GNP    CND     CD  Avg_Hours  Avg_Wage  Hours_worked  Employment  Productivity\n",
       "1964-01-01 -0.015 -0.023 -0.031     -0.010    -0.007        -0.017      -0.006        -0.009\n",
       "1964-04-01 -0.016 -0.016 -0.020     -0.004    -0.004        -0.014      -0.010        -0.006\n",
       "1964-07-01 -0.011 -0.005 -0.003     -0.005     0.002        -0.014      -0.009        -0.003\n",
       "1964-10-01 -0.021 -0.014 -0.054     -0.001    -0.003        -0.012      -0.010        -0.011\n",
       "1965-01-01 -0.007 -0.014  0.020      0.003     0.002        -0.004      -0.008         0.001\n",
       "...           ...    ...    ...        ...       ...           ...         ...           ...\n",
       "2022-01-01  0.007  0.021  0.048      0.001    -0.002         0.013       0.011        -0.004\n",
       "2022-04-01  0.000  0.021  0.008      0.000    -0.012         0.015       0.016        -0.016\n",
       "2022-07-01 -0.000  0.005 -0.014     -0.003    -0.014         0.019       0.021        -0.021\n",
       "2022-10-01  0.001 -0.010 -0.047     -0.007    -0.014         0.020       0.023        -0.023\n",
       "2023-01-01 -0.001 -0.021 -0.036     -0.004    -0.014         0.024       0.025        -0.027\n",
       "\n",
       "[237 rows x 8 columns]"
      ]
     },
     "execution_count": 28,
     "metadata": {},
     "output_type": "execute_result"
    }
   ],
   "source": [
    "cycle_df"
   ]
  },
  {
   "cell_type": "markdown",
   "id": "1ee546ea",
   "metadata": {},
   "source": [
    "Just an example of a possible plot"
   ]
  },
  {
   "cell_type": "code",
   "execution_count": 29,
   "id": "4efbda9d",
   "metadata": {},
   "outputs": [
    {
     "data": {
      "text/plain": [
       "[<matplotlib.lines.Line2D at 0x2126a2b8a50>]"
      ]
     },
     "execution_count": 29,
     "metadata": {},
     "output_type": "execute_result"
    },
    {
     "data": {
      "image/png": "[encoded data removed]",
      "text/plain": [
       "<Figure size 640x480 with 1 Axes>"
      ]
     },
     "metadata": {},
     "output_type": "display_data"
    }
   ],
   "source": [
    "fig, ax = plt.subplots()\n",
    "\n",
    "ax.plot(cycle_df.index, cycle_df.GNP)\n",
    "ax.plot(cycle_df.index, cycle_df.CND, 'r--')"
   ]
  },
  {
   "cell_type": "markdown",
   "id": "0e16675d",
   "metadata": {},
   "source": [
    "## Correlation\n",
    "\n",
    "Now that we have the fluctuations values, to recreate the table we need to compute the standard deviation of each series and their cross-correlation with the output series.\n",
    "\n",
    "Starting from the cross-correlation, I used the **ccf**, also from the **statsmodel** library. \n",
    "I defined a function to apply ccf to each column of a dataframe, specifying the column to be used as comparison (GNP in our case) and that returns as output a dictionary. "
   ]
  },
  {
   "cell_type": "code",
   "execution_count": 30,
   "id": "31f708b8",
   "metadata": {},
   "outputs": [],
   "source": [
    "def cross_correlation(my_df, response): \n",
    "    \n",
    "    cross_correlations = {}\n",
    "    \n",
    "    for var in list(my_df.columns.values):\n",
    "        \n",
    "        \"\"\"The main problem that I had with this function is that I couldn't compute\n",
    "        easily the cross-correlations with negative lags. A solution that I found on \n",
    "        StackExchange suggests to compute the correlations for negative lags using the\n",
    "        series in the reverse order. Then separately compute the correlation for positive lags, \n",
    "        finally adding the two results together\"\"\"\n",
    "        \n",
    "        backward = sm.tsa.stattools.ccf(my_df[var][::-1], my_df[response][::-1], adjusted=False)[::-1]\n",
    "        \n",
    "        forward = sm.tsa.stattools.ccf(my_df[var], my_df[response],  adjusted = False)\n",
    "        \n",
    "        \"\"\"The subsetting of backward ensures to extract only the cross-correlation from t-4\n",
    "        to t-1. From forward we get the values from t to t+4\"\"\"\n",
    "        \n",
    "        ccf_output = np.r_[backward[-5:-1], forward[:5]] \n",
    "        cross_correlations[var] = ccf_output\n",
    "        \n",
    "    return cross_correlations"
   ]
  },
  {
   "cell_type": "code",
   "execution_count": 31,
   "id": "2726a78f",
   "metadata": {},
   "outputs": [],
   "source": [
    "# Call the functions and use the results to create a dataframe\n",
    "\n",
    "cross_correlations = cross_correlation(cycle_df, 'GNP')\n",
    "df_correlations = pd.DataFrame(data = cross_correlations, \n",
    "                               index = ['t-4', 't-3', 't-2', 't-1', 't', 't+1', 't+2', 't+3', 't+4'])\n",
    "\n",
    "# Take the transpose to replicate the format of the original table\n",
    "\n",
    "df_correlations = df_correlations.T"
   ]
  },
  {
   "cell_type": "markdown",
   "id": "5064ee1e",
   "metadata": {},
   "source": [
    "Now we can compute the standard deviations and add it to our df. "
   ]
  },
  {
   "cell_type": "code",
   "execution_count": 32,
   "id": "d5e3ac5d",
   "metadata": {},
   "outputs": [],
   "source": [
    "df_correlations['Sd%'] = (cycle_df.std()*100).values"
   ]
  },
  {
   "cell_type": "markdown",
   "id": "18754ab6",
   "metadata": {},
   "source": [
    "Reorder the columns"
   ]
  },
  {
   "cell_type": "code",
   "execution_count": 33,
   "id": "8970fcc8",
   "metadata": {},
   "outputs": [],
   "source": [
    "ord_columns = df_correlations.columns[:-1].values # extracting the names of the column excepet Sd\n",
    "\n",
    "ord_columns = np.insert(ord_columns, 0, 'Sd%')    # pushing Sd at the beginning of the list\n",
    "\n",
    "df_correlations = df_correlations[ord_columns]    # use the list to reorder columns"
   ]
  },
  {
   "cell_type": "markdown",
   "id": "48c267c3",
   "metadata": {},
   "source": [
    "Reorder the rows"
   ]
  },
  {
   "cell_type": "code",
   "execution_count": 35,
   "id": "f008c6e1",
   "metadata": {},
   "outputs": [],
   "source": [
    "df_correlations = df_correlations.reindex(['GNP', 'CND', 'CD', \n",
    "                         'Hours_worked', 'Avg_Hours',\n",
    "                         'Employment', 'Productivity', \n",
    "                         'Avg_Wage'])"
   ]
  },
  {
   "cell_type": "code",
   "execution_count": 36,
   "id": "63daf196",
   "metadata": {},
   "outputs": [
    {
     "data": {
      "text/html": [
       "<div>\n",
       "<style scoped>\n",
       "    .dataframe tbody tr th:only-of-type {\n",
       "        vertical-align: middle;\n",
       "    }\n",
       "\n",
       "    .dataframe tbody tr th {\n",
       "        vertical-align: top;\n",
       "    }\n",
       "\n",
       "    .dataframe thead th {\n",
       "        text-align: right;\n",
       "    }\n",
       "</style>\n",
       "<table border=\"1\" class=\"dataframe\">\n",
       "  <thead>\n",
       "    <tr style=\"text-align: right;\">\n",
       "      <th></th>\n",
       "      <th>Sd%</th>\n",
       "      <th>t-4</th>\n",
       "      <th>t-3</th>\n",
       "      <th>t-2</th>\n",
       "      <th>t-1</th>\n",
       "      <th>t</th>\n",
       "      <th>t+1</th>\n",
       "      <th>t+2</th>\n",
       "      <th>t+3</th>\n",
       "      <th>t+4</th>\n",
       "    </tr>\n",
       "  </thead>\n",
       "  <tbody>\n",
       "    <tr>\n",
       "      <th>GNP</th>\n",
       "      <td>1.751</td>\n",
       "      <td>0.224</td>\n",
       "      <td>0.420</td>\n",
       "      <td>0.632</td>\n",
       "      <td>0.806</td>\n",
       "      <td>1.000</td>\n",
       "      <td>0.806</td>\n",
       "      <td>0.632</td>\n",
       "      <td>0.420</td>\n",
       "      <td>0.224</td>\n",
       "    </tr>\n",
       "    <tr>\n",
       "      <th>CND</th>\n",
       "      <td>1.517</td>\n",
       "      <td>-0.045</td>\n",
       "      <td>0.135</td>\n",
       "      <td>0.341</td>\n",
       "      <td>0.478</td>\n",
       "      <td>0.647</td>\n",
       "      <td>0.583</td>\n",
       "      <td>0.544</td>\n",
       "      <td>0.405</td>\n",
       "      <td>0.280</td>\n",
       "    </tr>\n",
       "    <tr>\n",
       "      <th>CD</th>\n",
       "      <td>4.647</td>\n",
       "      <td>0.429</td>\n",
       "      <td>0.572</td>\n",
       "      <td>0.690</td>\n",
       "      <td>0.775</td>\n",
       "      <td>0.776</td>\n",
       "      <td>0.543</td>\n",
       "      <td>0.370</td>\n",
       "      <td>0.160</td>\n",
       "      <td>-0.014</td>\n",
       "    </tr>\n",
       "    <tr>\n",
       "      <th>Hours_worked</th>\n",
       "      <td>2.175</td>\n",
       "      <td>-0.089</td>\n",
       "      <td>0.083</td>\n",
       "      <td>0.295</td>\n",
       "      <td>0.506</td>\n",
       "      <td>0.776</td>\n",
       "      <td>0.763</td>\n",
       "      <td>0.709</td>\n",
       "      <td>0.618</td>\n",
       "      <td>0.487</td>\n",
       "    </tr>\n",
       "    <tr>\n",
       "      <th>Avg_Hours</th>\n",
       "      <td>0.451</td>\n",
       "      <td>0.200</td>\n",
       "      <td>0.342</td>\n",
       "      <td>0.469</td>\n",
       "      <td>0.581</td>\n",
       "      <td>0.576</td>\n",
       "      <td>0.449</td>\n",
       "      <td>0.284</td>\n",
       "      <td>0.136</td>\n",
       "      <td>-0.032</td>\n",
       "    </tr>\n",
       "    <tr>\n",
       "      <th>Employment</th>\n",
       "      <td>1.952</td>\n",
       "      <td>-0.161</td>\n",
       "      <td>-0.004</td>\n",
       "      <td>0.198</td>\n",
       "      <td>0.413</td>\n",
       "      <td>0.712</td>\n",
       "      <td>0.738</td>\n",
       "      <td>0.723</td>\n",
       "      <td>0.665</td>\n",
       "      <td>0.564</td>\n",
       "    </tr>\n",
       "    <tr>\n",
       "      <th>Productivity</th>\n",
       "      <td>1.419</td>\n",
       "      <td>0.498</td>\n",
       "      <td>0.524</td>\n",
       "      <td>0.507</td>\n",
       "      <td>0.427</td>\n",
       "      <td>0.255</td>\n",
       "      <td>-0.021</td>\n",
       "      <td>-0.215</td>\n",
       "      <td>-0.396</td>\n",
       "      <td>-0.499</td>\n",
       "    </tr>\n",
       "    <tr>\n",
       "      <th>Avg_Wage</th>\n",
       "      <td>1.099</td>\n",
       "      <td>0.382</td>\n",
       "      <td>0.457</td>\n",
       "      <td>0.491</td>\n",
       "      <td>0.490</td>\n",
       "      <td>0.376</td>\n",
       "      <td>0.290</td>\n",
       "      <td>0.176</td>\n",
       "      <td>0.060</td>\n",
       "      <td>-0.057</td>\n",
       "    </tr>\n",
       "  </tbody>\n",
       "</table>\n",
       "</div>"
      ],
      "text/plain": [
       "               Sd%    t-4    t-3   t-2   t-1     t    t+1    t+2    t+3    t+4\n",
       "GNP          1.751  0.224  0.420 0.632 0.806 1.000  0.806  0.632  0.420  0.224\n",
       "CND          1.517 -0.045  0.135 0.341 0.478 0.647  0.583  0.544  0.405  0.280\n",
       "CD           4.647  0.429  0.572 0.690 0.775 0.776  0.543  0.370  0.160 -0.014\n",
       "Hours_worked 2.175 -0.089  0.083 0.295 0.506 0.776  0.763  0.709  0.618  0.487\n",
       "Avg_Hours    0.451  0.200  0.342 0.469 0.581 0.576  0.449  0.284  0.136 -0.032\n",
       "Employment   1.952 -0.161 -0.004 0.198 0.413 0.712  0.738  0.723  0.665  0.564\n",
       "Productivity 1.419  0.498  0.524 0.507 0.427 0.255 -0.021 -0.215 -0.396 -0.499\n",
       "Avg_Wage     1.099  0.382  0.457 0.491 0.490 0.376  0.290  0.176  0.060 -0.057"
      ]
     },
     "execution_count": 36,
     "metadata": {},
     "output_type": "execute_result"
    }
   ],
   "source": [
    "df_correlations"
   ]
  },
  {
   "cell_type": "markdown",
   "id": "4e85d905",
   "metadata": {},
   "source": [
    "# TABLE 2"
   ]
  },
  {
   "cell_type": "markdown",
   "id": "c31b966e",
   "metadata": {},
   "source": [
    "## Import the Data\n",
    "I use the same approach as before to get data from FRED. I imported also the variable for Population to compute some variables later. "
   ]
  },
  {
   "cell_type": "code",
   "execution_count": 38,
   "id": "35b00c5d",
   "metadata": {
    "collapsed": true
   },
   "outputs": [
    {
     "ename": "URLError",
     "evalue": "<urlopen error [Errno 11001] getaddrinfo failed>",
     "output_type": "error",
     "traceback": [
      "\u001b[1;31m---------------------------------------------------------------------------\u001b[0m",
      "\u001b[1;31mgaierror\u001b[0m                                  Traceback (most recent call last)",
      "File \u001b[1;32m~\\AppData\\Local\\Programs\\Python\\Python311\\Lib\\urllib\\request.py:1348\u001b[0m, in \u001b[0;36mAbstractHTTPHandler.do_open\u001b[1;34m(self, http_class, req, **http_conn_args)\u001b[0m\n\u001b[0;32m   1347\u001b[0m \u001b[38;5;28;01mtry\u001b[39;00m:\n\u001b[1;32m-> 1348\u001b[0m     \u001b[43mh\u001b[49m\u001b[38;5;241;43m.\u001b[39;49m\u001b[43mrequest\u001b[49m\u001b[43m(\u001b[49m\u001b[43mreq\u001b[49m\u001b[38;5;241;43m.\u001b[39;49m\u001b[43mget_method\u001b[49m\u001b[43m(\u001b[49m\u001b[43m)\u001b[49m\u001b[43m,\u001b[49m\u001b[43m \u001b[49m\u001b[43mreq\u001b[49m\u001b[38;5;241;43m.\u001b[39;49m\u001b[43mselector\u001b[49m\u001b[43m,\u001b[49m\u001b[43m \u001b[49m\u001b[43mreq\u001b[49m\u001b[38;5;241;43m.\u001b[39;49m\u001b[43mdata\u001b[49m\u001b[43m,\u001b[49m\u001b[43m \u001b[49m\u001b[43mheaders\u001b[49m\u001b[43m,\u001b[49m\n\u001b[0;32m   1349\u001b[0m \u001b[43m              \u001b[49m\u001b[43mencode_chunked\u001b[49m\u001b[38;5;241;43m=\u001b[39;49m\u001b[43mreq\u001b[49m\u001b[38;5;241;43m.\u001b[39;49m\u001b[43mhas_header\u001b[49m\u001b[43m(\u001b[49m\u001b[38;5;124;43m'\u001b[39;49m\u001b[38;5;124;43mTransfer-encoding\u001b[39;49m\u001b[38;5;124;43m'\u001b[39;49m\u001b[43m)\u001b[49m\u001b[43m)\u001b[49m\n\u001b[0;32m   1350\u001b[0m \u001b[38;5;28;01mexcept\u001b[39;00m \u001b[38;5;167;01mOSError\u001b[39;00m \u001b[38;5;28;01mas\u001b[39;00m err: \u001b[38;5;66;03m# timeout error\u001b[39;00m\n",
      "File \u001b[1;32m~\\AppData\\Local\\Programs\\Python\\Python311\\Lib\\http\\client.py:1282\u001b[0m, in \u001b[0;36mHTTPConnection.request\u001b[1;34m(self, method, url, body, headers, encode_chunked)\u001b[0m\n\u001b[0;32m   1281\u001b[0m \u001b[38;5;250m\u001b[39m\u001b[38;5;124;03m\"\"\"Send a complete request to the server.\"\"\"\u001b[39;00m\n\u001b[1;32m-> 1282\u001b[0m \u001b[38;5;28;43mself\u001b[39;49m\u001b[38;5;241;43m.\u001b[39;49m\u001b[43m_send_request\u001b[49m\u001b[43m(\u001b[49m\u001b[43mmethod\u001b[49m\u001b[43m,\u001b[49m\u001b[43m \u001b[49m\u001b[43murl\u001b[49m\u001b[43m,\u001b[49m\u001b[43m \u001b[49m\u001b[43mbody\u001b[49m\u001b[43m,\u001b[49m\u001b[43m \u001b[49m\u001b[43mheaders\u001b[49m\u001b[43m,\u001b[49m\u001b[43m \u001b[49m\u001b[43mencode_chunked\u001b[49m\u001b[43m)\u001b[49m\n",
      "File \u001b[1;32m~\\AppData\\Local\\Programs\\Python\\Python311\\Lib\\http\\client.py:1328\u001b[0m, in \u001b[0;36mHTTPConnection._send_request\u001b[1;34m(self, method, url, body, headers, encode_chunked)\u001b[0m\n\u001b[0;32m   1327\u001b[0m     body \u001b[38;5;241m=\u001b[39m _encode(body, \u001b[38;5;124m'\u001b[39m\u001b[38;5;124mbody\u001b[39m\u001b[38;5;124m'\u001b[39m)\n\u001b[1;32m-> 1328\u001b[0m \u001b[38;5;28;43mself\u001b[39;49m\u001b[38;5;241;43m.\u001b[39;49m\u001b[43mendheaders\u001b[49m\u001b[43m(\u001b[49m\u001b[43mbody\u001b[49m\u001b[43m,\u001b[49m\u001b[43m \u001b[49m\u001b[43mencode_chunked\u001b[49m\u001b[38;5;241;43m=\u001b[39;49m\u001b[43mencode_chunked\u001b[49m\u001b[43m)\u001b[49m\n",
      "File \u001b[1;32m~\\AppData\\Local\\Programs\\Python\\Python311\\Lib\\http\\client.py:1277\u001b[0m, in \u001b[0;36mHTTPConnection.endheaders\u001b[1;34m(self, message_body, encode_chunked)\u001b[0m\n\u001b[0;32m   1276\u001b[0m     \u001b[38;5;28;01mraise\u001b[39;00m CannotSendHeader()\n\u001b[1;32m-> 1277\u001b[0m \u001b[38;5;28;43mself\u001b[39;49m\u001b[38;5;241;43m.\u001b[39;49m\u001b[43m_send_output\u001b[49m\u001b[43m(\u001b[49m\u001b[43mmessage_body\u001b[49m\u001b[43m,\u001b[49m\u001b[43m \u001b[49m\u001b[43mencode_chunked\u001b[49m\u001b[38;5;241;43m=\u001b[39;49m\u001b[43mencode_chunked\u001b[49m\u001b[43m)\u001b[49m\n",
      "File \u001b[1;32m~\\AppData\\Local\\Programs\\Python\\Python311\\Lib\\http\\client.py:1037\u001b[0m, in \u001b[0;36mHTTPConnection._send_output\u001b[1;34m(self, message_body, encode_chunked)\u001b[0m\n\u001b[0;32m   1036\u001b[0m \u001b[38;5;28;01mdel\u001b[39;00m \u001b[38;5;28mself\u001b[39m\u001b[38;5;241m.\u001b[39m_buffer[:]\n\u001b[1;32m-> 1037\u001b[0m \u001b[38;5;28;43mself\u001b[39;49m\u001b[38;5;241;43m.\u001b[39;49m\u001b[43msend\u001b[49m\u001b[43m(\u001b[49m\u001b[43mmsg\u001b[49m\u001b[43m)\u001b[49m\n\u001b[0;32m   1039\u001b[0m \u001b[38;5;28;01mif\u001b[39;00m message_body \u001b[38;5;129;01mis\u001b[39;00m \u001b[38;5;129;01mnot\u001b[39;00m \u001b[38;5;28;01mNone\u001b[39;00m:\n\u001b[0;32m   1040\u001b[0m \n\u001b[0;32m   1041\u001b[0m     \u001b[38;5;66;03m# create a consistent interface to message_body\u001b[39;00m\n",
      "File \u001b[1;32m~\\AppData\\Local\\Programs\\Python\\Python311\\Lib\\http\\client.py:975\u001b[0m, in \u001b[0;36mHTTPConnection.send\u001b[1;34m(self, data)\u001b[0m\n\u001b[0;32m    974\u001b[0m \u001b[38;5;28;01mif\u001b[39;00m \u001b[38;5;28mself\u001b[39m\u001b[38;5;241m.\u001b[39mauto_open:\n\u001b[1;32m--> 975\u001b[0m     \u001b[38;5;28;43mself\u001b[39;49m\u001b[38;5;241;43m.\u001b[39;49m\u001b[43mconnect\u001b[49m\u001b[43m(\u001b[49m\u001b[43m)\u001b[49m\n\u001b[0;32m    976\u001b[0m \u001b[38;5;28;01melse\u001b[39;00m:\n",
      "File \u001b[1;32m~\\AppData\\Local\\Programs\\Python\\Python311\\Lib\\http\\client.py:1447\u001b[0m, in \u001b[0;36mHTTPSConnection.connect\u001b[1;34m(self)\u001b[0m\n\u001b[0;32m   1445\u001b[0m \u001b[38;5;124m\"\u001b[39m\u001b[38;5;124mConnect to a host on a given (SSL) port.\u001b[39m\u001b[38;5;124m\"\u001b[39m\n\u001b[1;32m-> 1447\u001b[0m \u001b[38;5;28;43msuper\u001b[39;49m\u001b[43m(\u001b[49m\u001b[43m)\u001b[49m\u001b[38;5;241;43m.\u001b[39;49m\u001b[43mconnect\u001b[49m\u001b[43m(\u001b[49m\u001b[43m)\u001b[49m\n\u001b[0;32m   1449\u001b[0m \u001b[38;5;28;01mif\u001b[39;00m \u001b[38;5;28mself\u001b[39m\u001b[38;5;241m.\u001b[39m_tunnel_host:\n",
      "File \u001b[1;32m~\\AppData\\Local\\Programs\\Python\\Python311\\Lib\\http\\client.py:941\u001b[0m, in \u001b[0;36mHTTPConnection.connect\u001b[1;34m(self)\u001b[0m\n\u001b[0;32m    940\u001b[0m sys\u001b[38;5;241m.\u001b[39maudit(\u001b[38;5;124m\"\u001b[39m\u001b[38;5;124mhttp.client.connect\u001b[39m\u001b[38;5;124m\"\u001b[39m, \u001b[38;5;28mself\u001b[39m, \u001b[38;5;28mself\u001b[39m\u001b[38;5;241m.\u001b[39mhost, \u001b[38;5;28mself\u001b[39m\u001b[38;5;241m.\u001b[39mport)\n\u001b[1;32m--> 941\u001b[0m \u001b[38;5;28mself\u001b[39m\u001b[38;5;241m.\u001b[39msock \u001b[38;5;241m=\u001b[39m \u001b[38;5;28;43mself\u001b[39;49m\u001b[38;5;241;43m.\u001b[39;49m\u001b[43m_create_connection\u001b[49m\u001b[43m(\u001b[49m\n\u001b[0;32m    942\u001b[0m \u001b[43m    \u001b[49m\u001b[43m(\u001b[49m\u001b[38;5;28;43mself\u001b[39;49m\u001b[38;5;241;43m.\u001b[39;49m\u001b[43mhost\u001b[49m\u001b[43m,\u001b[49m\u001b[38;5;28;43mself\u001b[39;49m\u001b[38;5;241;43m.\u001b[39;49m\u001b[43mport\u001b[49m\u001b[43m)\u001b[49m\u001b[43m,\u001b[49m\u001b[43m \u001b[49m\u001b[38;5;28;43mself\u001b[39;49m\u001b[38;5;241;43m.\u001b[39;49m\u001b[43mtimeout\u001b[49m\u001b[43m,\u001b[49m\u001b[43m \u001b[49m\u001b[38;5;28;43mself\u001b[39;49m\u001b[38;5;241;43m.\u001b[39;49m\u001b[43msource_address\u001b[49m\u001b[43m)\u001b[49m\n\u001b[0;32m    943\u001b[0m \u001b[38;5;66;03m# Might fail in OSs that don't implement TCP_NODELAY\u001b[39;00m\n",
      "File \u001b[1;32m~\\AppData\\Local\\Programs\\Python\\Python311\\Lib\\socket.py:827\u001b[0m, in \u001b[0;36mcreate_connection\u001b[1;34m(address, timeout, source_address, all_errors)\u001b[0m\n\u001b[0;32m    826\u001b[0m exceptions \u001b[38;5;241m=\u001b[39m []\n\u001b[1;32m--> 827\u001b[0m \u001b[38;5;28;01mfor\u001b[39;00m res \u001b[38;5;129;01min\u001b[39;00m \u001b[43mgetaddrinfo\u001b[49m\u001b[43m(\u001b[49m\u001b[43mhost\u001b[49m\u001b[43m,\u001b[49m\u001b[43m \u001b[49m\u001b[43mport\u001b[49m\u001b[43m,\u001b[49m\u001b[43m \u001b[49m\u001b[38;5;241;43m0\u001b[39;49m\u001b[43m,\u001b[49m\u001b[43m \u001b[49m\u001b[43mSOCK_STREAM\u001b[49m\u001b[43m)\u001b[49m:\n\u001b[0;32m    828\u001b[0m     af, socktype, proto, canonname, sa \u001b[38;5;241m=\u001b[39m res\n",
      "File \u001b[1;32m~\\AppData\\Local\\Programs\\Python\\Python311\\Lib\\socket.py:962\u001b[0m, in \u001b[0;36mgetaddrinfo\u001b[1;34m(host, port, family, type, proto, flags)\u001b[0m\n\u001b[0;32m    961\u001b[0m addrlist \u001b[38;5;241m=\u001b[39m []\n\u001b[1;32m--> 962\u001b[0m \u001b[38;5;28;01mfor\u001b[39;00m res \u001b[38;5;129;01min\u001b[39;00m \u001b[43m_socket\u001b[49m\u001b[38;5;241;43m.\u001b[39;49m\u001b[43mgetaddrinfo\u001b[49m\u001b[43m(\u001b[49m\u001b[43mhost\u001b[49m\u001b[43m,\u001b[49m\u001b[43m \u001b[49m\u001b[43mport\u001b[49m\u001b[43m,\u001b[49m\u001b[43m \u001b[49m\u001b[43mfamily\u001b[49m\u001b[43m,\u001b[49m\u001b[43m \u001b[49m\u001b[38;5;28;43mtype\u001b[39;49m\u001b[43m,\u001b[49m\u001b[43m \u001b[49m\u001b[43mproto\u001b[49m\u001b[43m,\u001b[49m\u001b[43m \u001b[49m\u001b[43mflags\u001b[49m\u001b[43m)\u001b[49m:\n\u001b[0;32m    963\u001b[0m     af, socktype, proto, canonname, sa \u001b[38;5;241m=\u001b[39m res\n",
      "\u001b[1;31mgaierror\u001b[0m: [Errno 11001] getaddrinfo failed",
      "\nDuring handling of the above exception, another exception occurred:\n",
      "\u001b[1;31mURLError\u001b[0m                                  Traceback (most recent call last)",
      "Cell \u001b[1;32mIn[38], line 10\u001b[0m\n\u001b[0;32m      7\u001b[0m df_tab_2 \u001b[38;5;241m=\u001b[39m pd\u001b[38;5;241m.\u001b[39mDataFrame()\n\u001b[0;32m      9\u001b[0m \u001b[38;5;28;01mfor\u001b[39;00m var \u001b[38;5;129;01min\u001b[39;00m fred_codes\u001b[38;5;241m.\u001b[39mkeys():\n\u001b[1;32m---> 10\u001b[0m     df_tab_2[var] \u001b[38;5;241m=\u001b[39m \u001b[43mget_data\u001b[49m\u001b[43m(\u001b[49m\u001b[43mfred_codes\u001b[49m\u001b[43m[\u001b[49m\u001b[43mvar\u001b[49m\u001b[43m]\u001b[49m\u001b[43m)\u001b[49m\n",
      "Cell \u001b[1;32mIn[17], line 4\u001b[0m, in \u001b[0;36mget_data\u001b[1;34m(code)\u001b[0m\n\u001b[0;32m      3\u001b[0m \u001b[38;5;28;01mdef\u001b[39;00m \u001b[38;5;21mget_data\u001b[39m(code):\n\u001b[1;32m----> 4\u001b[0m     \u001b[38;5;28;01mreturn\u001b[39;00m \u001b[43mfred\u001b[49m\u001b[38;5;241;43m.\u001b[39;49m\u001b[43mget_series\u001b[49m\u001b[43m(\u001b[49m\u001b[43mcode\u001b[49m\u001b[43m,\u001b[49m\u001b[43m \u001b[49m\u001b[43mfrequency\u001b[49m\u001b[43m \u001b[49m\u001b[38;5;241;43m=\u001b[39;49m\u001b[43m \u001b[49m\u001b[38;5;124;43m'\u001b[39;49m\u001b[38;5;124;43mq\u001b[39;49m\u001b[38;5;124;43m'\u001b[39;49m\u001b[43m)\u001b[49m\n",
      "File \u001b[1;32m~\\AppData\\Local\\Programs\\Python\\Python311\\Lib\\site-packages\\fredapi\\fred.py:131\u001b[0m, in \u001b[0;36mFred.get_series\u001b[1;34m(self, series_id, observation_start, observation_end, **kwargs)\u001b[0m\n\u001b[0;32m    129\u001b[0m \u001b[38;5;28;01mif\u001b[39;00m kwargs\u001b[38;5;241m.\u001b[39mkeys():\n\u001b[0;32m    130\u001b[0m     url \u001b[38;5;241m+\u001b[39m\u001b[38;5;241m=\u001b[39m \u001b[38;5;124m'\u001b[39m\u001b[38;5;124m&\u001b[39m\u001b[38;5;124m'\u001b[39m \u001b[38;5;241m+\u001b[39m urlencode(kwargs)\n\u001b[1;32m--> 131\u001b[0m root \u001b[38;5;241m=\u001b[39m \u001b[38;5;28;43mself\u001b[39;49m\u001b[38;5;241;43m.\u001b[39;49m\u001b[43m__fetch_data\u001b[49m\u001b[43m(\u001b[49m\u001b[43murl\u001b[49m\u001b[43m)\u001b[49m\n\u001b[0;32m    132\u001b[0m \u001b[38;5;28;01mif\u001b[39;00m root \u001b[38;5;129;01mis\u001b[39;00m \u001b[38;5;28;01mNone\u001b[39;00m:\n\u001b[0;32m    133\u001b[0m     \u001b[38;5;28;01mraise\u001b[39;00m \u001b[38;5;167;01mValueError\u001b[39;00m(\u001b[38;5;124m'\u001b[39m\u001b[38;5;124mNo data exists for series id: \u001b[39m\u001b[38;5;124m'\u001b[39m \u001b[38;5;241m+\u001b[39m series_id)\n",
      "File \u001b[1;32m~\\AppData\\Local\\Programs\\Python\\Python311\\Lib\\site-packages\\fredapi\\fred.py:64\u001b[0m, in \u001b[0;36mFred.__fetch_data\u001b[1;34m(self, url)\u001b[0m\n\u001b[0;32m     62\u001b[0m url \u001b[38;5;241m+\u001b[39m\u001b[38;5;241m=\u001b[39m \u001b[38;5;124m'\u001b[39m\u001b[38;5;124m&api_key=\u001b[39m\u001b[38;5;124m'\u001b[39m \u001b[38;5;241m+\u001b[39m \u001b[38;5;28mself\u001b[39m\u001b[38;5;241m.\u001b[39mapi_key\n\u001b[0;32m     63\u001b[0m \u001b[38;5;28;01mtry\u001b[39;00m:\n\u001b[1;32m---> 64\u001b[0m     response \u001b[38;5;241m=\u001b[39m \u001b[43murlopen\u001b[49m\u001b[43m(\u001b[49m\u001b[43murl\u001b[49m\u001b[43m)\u001b[49m\n\u001b[0;32m     65\u001b[0m     root \u001b[38;5;241m=\u001b[39m ET\u001b[38;5;241m.\u001b[39mfromstring(response\u001b[38;5;241m.\u001b[39mread())\n\u001b[0;32m     66\u001b[0m \u001b[38;5;28;01mexcept\u001b[39;00m HTTPError \u001b[38;5;28;01mas\u001b[39;00m exc:\n",
      "File \u001b[1;32m~\\AppData\\Local\\Programs\\Python\\Python311\\Lib\\urllib\\request.py:216\u001b[0m, in \u001b[0;36murlopen\u001b[1;34m(url, data, timeout, cafile, capath, cadefault, context)\u001b[0m\n\u001b[0;32m    214\u001b[0m \u001b[38;5;28;01melse\u001b[39;00m:\n\u001b[0;32m    215\u001b[0m     opener \u001b[38;5;241m=\u001b[39m _opener\n\u001b[1;32m--> 216\u001b[0m \u001b[38;5;28;01mreturn\u001b[39;00m \u001b[43mopener\u001b[49m\u001b[38;5;241;43m.\u001b[39;49m\u001b[43mopen\u001b[49m\u001b[43m(\u001b[49m\u001b[43murl\u001b[49m\u001b[43m,\u001b[49m\u001b[43m \u001b[49m\u001b[43mdata\u001b[49m\u001b[43m,\u001b[49m\u001b[43m \u001b[49m\u001b[43mtimeout\u001b[49m\u001b[43m)\u001b[49m\n",
      "File \u001b[1;32m~\\AppData\\Local\\Programs\\Python\\Python311\\Lib\\urllib\\request.py:519\u001b[0m, in \u001b[0;36mOpenerDirector.open\u001b[1;34m(self, fullurl, data, timeout)\u001b[0m\n\u001b[0;32m    516\u001b[0m     req \u001b[38;5;241m=\u001b[39m meth(req)\n\u001b[0;32m    518\u001b[0m sys\u001b[38;5;241m.\u001b[39maudit(\u001b[38;5;124m'\u001b[39m\u001b[38;5;124murllib.Request\u001b[39m\u001b[38;5;124m'\u001b[39m, req\u001b[38;5;241m.\u001b[39mfull_url, req\u001b[38;5;241m.\u001b[39mdata, req\u001b[38;5;241m.\u001b[39mheaders, req\u001b[38;5;241m.\u001b[39mget_method())\n\u001b[1;32m--> 519\u001b[0m response \u001b[38;5;241m=\u001b[39m \u001b[38;5;28;43mself\u001b[39;49m\u001b[38;5;241;43m.\u001b[39;49m\u001b[43m_open\u001b[49m\u001b[43m(\u001b[49m\u001b[43mreq\u001b[49m\u001b[43m,\u001b[49m\u001b[43m \u001b[49m\u001b[43mdata\u001b[49m\u001b[43m)\u001b[49m\n\u001b[0;32m    521\u001b[0m \u001b[38;5;66;03m# post-process response\u001b[39;00m\n\u001b[0;32m    522\u001b[0m meth_name \u001b[38;5;241m=\u001b[39m protocol\u001b[38;5;241m+\u001b[39m\u001b[38;5;124m\"\u001b[39m\u001b[38;5;124m_response\u001b[39m\u001b[38;5;124m\"\u001b[39m\n",
      "File \u001b[1;32m~\\AppData\\Local\\Programs\\Python\\Python311\\Lib\\urllib\\request.py:536\u001b[0m, in \u001b[0;36mOpenerDirector._open\u001b[1;34m(self, req, data)\u001b[0m\n\u001b[0;32m    533\u001b[0m     \u001b[38;5;28;01mreturn\u001b[39;00m result\n\u001b[0;32m    535\u001b[0m protocol \u001b[38;5;241m=\u001b[39m req\u001b[38;5;241m.\u001b[39mtype\n\u001b[1;32m--> 536\u001b[0m result \u001b[38;5;241m=\u001b[39m \u001b[38;5;28;43mself\u001b[39;49m\u001b[38;5;241;43m.\u001b[39;49m\u001b[43m_call_chain\u001b[49m\u001b[43m(\u001b[49m\u001b[38;5;28;43mself\u001b[39;49m\u001b[38;5;241;43m.\u001b[39;49m\u001b[43mhandle_open\u001b[49m\u001b[43m,\u001b[49m\u001b[43m \u001b[49m\u001b[43mprotocol\u001b[49m\u001b[43m,\u001b[49m\u001b[43m \u001b[49m\u001b[43mprotocol\u001b[49m\u001b[43m \u001b[49m\u001b[38;5;241;43m+\u001b[39;49m\n\u001b[0;32m    537\u001b[0m \u001b[43m                          \u001b[49m\u001b[38;5;124;43m'\u001b[39;49m\u001b[38;5;124;43m_open\u001b[39;49m\u001b[38;5;124;43m'\u001b[39;49m\u001b[43m,\u001b[49m\u001b[43m \u001b[49m\u001b[43mreq\u001b[49m\u001b[43m)\u001b[49m\n\u001b[0;32m    538\u001b[0m \u001b[38;5;28;01mif\u001b[39;00m result:\n\u001b[0;32m    539\u001b[0m     \u001b[38;5;28;01mreturn\u001b[39;00m result\n",
      "File \u001b[1;32m~\\AppData\\Local\\Programs\\Python\\Python311\\Lib\\urllib\\request.py:496\u001b[0m, in \u001b[0;36mOpenerDirector._call_chain\u001b[1;34m(self, chain, kind, meth_name, *args)\u001b[0m\n\u001b[0;32m    494\u001b[0m \u001b[38;5;28;01mfor\u001b[39;00m handler \u001b[38;5;129;01min\u001b[39;00m handlers:\n\u001b[0;32m    495\u001b[0m     func \u001b[38;5;241m=\u001b[39m \u001b[38;5;28mgetattr\u001b[39m(handler, meth_name)\n\u001b[1;32m--> 496\u001b[0m     result \u001b[38;5;241m=\u001b[39m \u001b[43mfunc\u001b[49m\u001b[43m(\u001b[49m\u001b[38;5;241;43m*\u001b[39;49m\u001b[43margs\u001b[49m\u001b[43m)\u001b[49m\n\u001b[0;32m    497\u001b[0m     \u001b[38;5;28;01mif\u001b[39;00m result \u001b[38;5;129;01mis\u001b[39;00m \u001b[38;5;129;01mnot\u001b[39;00m \u001b[38;5;28;01mNone\u001b[39;00m:\n\u001b[0;32m    498\u001b[0m         \u001b[38;5;28;01mreturn\u001b[39;00m result\n",
      "File \u001b[1;32m~\\AppData\\Local\\Programs\\Python\\Python311\\Lib\\urllib\\request.py:1391\u001b[0m, in \u001b[0;36mHTTPSHandler.https_open\u001b[1;34m(self, req)\u001b[0m\n\u001b[0;32m   1390\u001b[0m \u001b[38;5;28;01mdef\u001b[39;00m \u001b[38;5;21mhttps_open\u001b[39m(\u001b[38;5;28mself\u001b[39m, req):\n\u001b[1;32m-> 1391\u001b[0m     \u001b[38;5;28;01mreturn\u001b[39;00m \u001b[38;5;28;43mself\u001b[39;49m\u001b[38;5;241;43m.\u001b[39;49m\u001b[43mdo_open\u001b[49m\u001b[43m(\u001b[49m\u001b[43mhttp\u001b[49m\u001b[38;5;241;43m.\u001b[39;49m\u001b[43mclient\u001b[49m\u001b[38;5;241;43m.\u001b[39;49m\u001b[43mHTTPSConnection\u001b[49m\u001b[43m,\u001b[49m\u001b[43m \u001b[49m\u001b[43mreq\u001b[49m\u001b[43m,\u001b[49m\n\u001b[0;32m   1392\u001b[0m \u001b[43m        \u001b[49m\u001b[43mcontext\u001b[49m\u001b[38;5;241;43m=\u001b[39;49m\u001b[38;5;28;43mself\u001b[39;49m\u001b[38;5;241;43m.\u001b[39;49m\u001b[43m_context\u001b[49m\u001b[43m,\u001b[49m\u001b[43m \u001b[49m\u001b[43mcheck_hostname\u001b[49m\u001b[38;5;241;43m=\u001b[39;49m\u001b[38;5;28;43mself\u001b[39;49m\u001b[38;5;241;43m.\u001b[39;49m\u001b[43m_check_hostname\u001b[49m\u001b[43m)\u001b[49m\n",
      "File \u001b[1;32m~\\AppData\\Local\\Programs\\Python\\Python311\\Lib\\urllib\\request.py:1351\u001b[0m, in \u001b[0;36mAbstractHTTPHandler.do_open\u001b[1;34m(self, http_class, req, **http_conn_args)\u001b[0m\n\u001b[0;32m   1348\u001b[0m         h\u001b[38;5;241m.\u001b[39mrequest(req\u001b[38;5;241m.\u001b[39mget_method(), req\u001b[38;5;241m.\u001b[39mselector, req\u001b[38;5;241m.\u001b[39mdata, headers,\n\u001b[0;32m   1349\u001b[0m                   encode_chunked\u001b[38;5;241m=\u001b[39mreq\u001b[38;5;241m.\u001b[39mhas_header(\u001b[38;5;124m'\u001b[39m\u001b[38;5;124mTransfer-encoding\u001b[39m\u001b[38;5;124m'\u001b[39m))\n\u001b[0;32m   1350\u001b[0m     \u001b[38;5;28;01mexcept\u001b[39;00m \u001b[38;5;167;01mOSError\u001b[39;00m \u001b[38;5;28;01mas\u001b[39;00m err: \u001b[38;5;66;03m# timeout error\u001b[39;00m\n\u001b[1;32m-> 1351\u001b[0m         \u001b[38;5;28;01mraise\u001b[39;00m URLError(err)\n\u001b[0;32m   1352\u001b[0m     r \u001b[38;5;241m=\u001b[39m h\u001b[38;5;241m.\u001b[39mgetresponse()\n\u001b[0;32m   1353\u001b[0m \u001b[38;5;28;01mexcept\u001b[39;00m:\n",
      "\u001b[1;31mURLError\u001b[0m: <urlopen error [Errno 11001] getaddrinfo failed>"
     ]
    }
   ],
   "source": [
    "fred_codes = {'Y' : 'A939RC0Q052SBEA',\n",
    "              'C' : 'A796RC0Q052SBEA',\n",
    "              'I' : 'A795RC0Q052SBEA',\n",
    "              'Pop' : 'POPTHM', \n",
    "              'w' : 'AHETPI'}\n",
    "\n",
    "df_tab_2 = pd.DataFrame()\n",
    "\n",
    "for var in fred_codes.keys():\n",
    "    df_tab_2[var] = get_data(fred_codes[var])"
   ]
  },
  {
   "cell_type": "markdown",
   "id": "19e7d41c",
   "metadata": {},
   "source": [
    "Probabilmente rates puoi importarlo assieme alle altre. "
   ]
  },
  {
   "cell_type": "code",
   "execution_count": 27,
   "id": "4f98c9e2",
   "metadata": {},
   "outputs": [],
   "source": [
    "r = pd.read_excel('rates.xls', index_col=0)\n",
    "r.index = pd.to_datetime(r.index)\n",
    "df_tab_2['r'] = r.DFF"
   ]
  },
  {
   "cell_type": "markdown",
   "id": "bace173e",
   "metadata": {},
   "source": [
    "Use the function defined above to retrieve the hours worked series from the excel file, and then compute N as the ratio between hours and population"
   ]
  },
  {
   "cell_type": "code",
   "execution_count": 30,
   "id": "5322c555",
   "metadata": {},
   "outputs": [],
   "source": [
    "hours = add_labour_employment('Hours_worked', want_series= True)\n",
    "df_tab_2['N'] = hours*1e3 / df_tab_2.Pop*1e3 #hours while importing from excel\n",
    "\n",
    "df_tab_2.drop('Pop', inplace = True, axis = 1) #drop Pop column, not needed anymore"
   ]
  },
  {
   "cell_type": "markdown",
   "id": "20376a3e",
   "metadata": {},
   "source": [
    "Before computing Y/N I transfrom the monetary variable that needs to nominal values."
   ]
  },
  {
   "cell_type": "code",
   "execution_count": 32,
   "id": "2cfc346c",
   "metadata": {},
   "outputs": [],
   "source": [
    "nominal = ['Y', 'C', 'I', 'w']\n",
    "df_tab_2[nominal] = df_tab_2[nominal].apply(lambda x: x/(cpi.ind/100))\n",
    "\n",
    "df_tab_2['r'] = df_tab_2['r'] - (cpi.ind/100) # for the real interest rate the approach is different.\n",
    "                                              # Subtracted the CPI\n",
    "    \n",
    "df_tab_2['Y_N'] = df_tab_2.Y / df_tab_2.N\n"
   ]
  },
  {
   "cell_type": "markdown",
   "id": "8cc256b1",
   "metadata": {},
   "source": [
    "Compute logs, expect for r. "
   ]
  },
  {
   "cell_type": "code",
   "execution_count": 36,
   "id": "511ffb5f",
   "metadata": {},
   "outputs": [],
   "source": [
    "df_log2 = df_tab_2.loc[:, df_tab_2.columns != 'r'].apply(np.log)\n",
    "df_log2['r'] = df_tab_2.r\n",
    "df_log2.dropna(inplace=True)"
   ]
  },
  {
   "cell_type": "markdown",
   "id": "28854b53",
   "metadata": {},
   "source": [
    "## Extract fluctuations, compute cross-correlation"
   ]
  },
  {
   "cell_type": "code",
   "execution_count": 39,
   "id": "36f20172",
   "metadata": {},
   "outputs": [],
   "source": [
    "# I re-use extrand_trends and cross_correlation which are function I defined previously\n",
    "\n",
    "cycle_df_2, trend_df_2 = extract_trends(df_log2)\n",
    "\n",
    "cross_correlations_2 = cross_correlation(cycle_df_2, 'Y')\n",
    "df_correlations_2 = pd.DataFrame(cross_correlations_2)\n",
    "df_correlations_2 = df_correlations_2.T"
   ]
  },
  {
   "cell_type": "markdown",
   "id": "ac57e78d",
   "metadata": {},
   "source": [
    "## Recreate the table"
   ]
  },
  {
   "cell_type": "code",
   "execution_count": 43,
   "id": "591f5c1a",
   "metadata": {},
   "outputs": [],
   "source": [
    "table_2 = pd.DataFrame({'Std_dev' : cycle_df_2.std()*100}) # start from the std of each var\n",
    "\n",
    "table_2['Rel_std_dev'] = table_2.Std_dev / table_2.loc['Y'].Std_dev # std relative to Y\n",
    "\n",
    "table_2['Autocorr'] = cycle_df_2.apply(lambda x: x.autocorr()) # lag-1 autocorrelation\n",
    "\n",
    "table_2['Corr_output'] = cycle_df_2.corrwith(cycle_df_2.Y, axis = 0) # contemporary correlation with Y"
   ]
  }
 ],
 "metadata": {
  "hide_input": false,
  "kernelspec": {
   "display_name": "Python 3 (ipykernel)",
   "language": "python",
   "name": "python3"
  },
  "language_info": {
   "codemirror_mode": {
    "name": "ipython",
    "version": 3
   },
   "file_extension": ".py",
   "mimetype": "text/x-python",
   "name": "python",
   "nbconvert_exporter": "python",
   "pygments_lexer": "ipython3",
   "version": "3.11.2"
  },
  "toc": {
   "base_numbering": 1,
   "nav_menu": {},
   "number_sections": true,
   "sideBar": true,
   "skip_h1_title": true,
   "title_cell": "Table of Contents",
   "title_sidebar": "Contents",
   "toc_cell": false,
   "toc_position": {},
   "toc_section_display": true,
   "toc_window_display": false
  },
  "varInspector": {
   "cols": {
    "lenName": 16,
    "lenType": 16,
    "lenVar": 40
   },
   "kernels_config": {
    "python": {
     "delete_cmd_postfix": "",
     "delete_cmd_prefix": "del ",
     "library": "var_list.py",
     "varRefreshCmd": "print(var_dic_list())"
    },
    "r": {
     "delete_cmd_postfix": ") ",
     "delete_cmd_prefix": "rm(",
     "library": "var_list.r",
     "varRefreshCmd": "cat(var_dic_list()) "
    }
   },
   "types_to_exclude": [
    "module",
    "function",
    "builtin_function_or_method",
    "instance",
    "_Feature"
   ],
   "window_display": false
  }
 },
 "nbformat": 4,
 "nbformat_minor": 5
}
